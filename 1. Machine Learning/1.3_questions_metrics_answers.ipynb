{
 "cells": [
  {
   "cell_type": "markdown",
   "metadata": {
    "collapsed": true,
    "pycharm": {
     "name": "#%% md\n"
    }
   },
   "source": [
    "В задаче бинарной классификации имеется 10 объектов.\n",
    "Истинные классы объектов описываются массивом [0,1,1,0,0,1,1,0,0,0].\n",
    "Ответы, предсказанные алгоритмом машинного обучения, равны соответственно [0,1,1,0,0,1,0,1,0,1].\n",
    "Вычислите значение метрики Precision. Ответ представьте в виде десятичной дроби."
   ]
  },
  {
   "cell_type": "code",
   "execution_count": null,
   "outputs": [],
   "source": [
    "from sklearn.metrics import precision_score\n",
    "\n",
    "x = [0,1,1,0,0,1,1,0,0,0]\n",
    "y = [0,1,1,0,0,1,0,1,0,1]\n",
    "\n",
    "print (f'precision: {precision_score(x,y)}')"
   ],
   "metadata": {
    "collapsed": false,
    "pycharm": {
     "name": "#%%\n"
    }
   }
  },
  {
   "cell_type": "markdown",
   "source": [
    "В задаче бинарной классификации имеется 10 объектов.\n",
    "Истинные классы объектов описываются массивом [0,1,1,0,0,1,1,0,0,0].\n",
    "Ответы, предсказанные алгоритмом машинного обучения, равны соответственно [0,1,1,0,0,1,0,1,0,1].\n",
    "Вычислите значение метрики Recall. Ответ представьте в виде десятичной дроби."
   ],
   "metadata": {
    "collapsed": false,
    "pycharm": {
     "name": "#%% md\n"
    }
   }
  },
  {
   "cell_type": "code",
   "execution_count": null,
   "outputs": [],
   "source": [
    "from sklearn.metrics import recall_score\n",
    "\n",
    "x = [0,1,1,0,0,1,1,0,0,0]\n",
    "y = [0,1,1,0,0,1,0,1,0,1]\n",
    "\n",
    "print (f'precision: {recall_score(x,y)}')"
   ],
   "metadata": {
    "collapsed": false,
    "pycharm": {
     "name": "#%%\n"
    }
   }
  },
  {
   "cell_type": "markdown",
   "source": [
    "В задаче бинарной классификации имеется 10 объектов.\n",
    "Истинные классы объектов описываются массивом [0,1,1,0,0,1,1,0,0,0].\n",
    "Вероятности, предсказанные алгоритмом машинного обучения,\n",
    "равны соответственно [0.35, 0.85, 0.75, 0.25, 0.05, 0.45, 0.95, 0.65, 0.15, 0.55].\n",
    "Вычислите значение метрики ROC-AUC. Ответ округлите до сотых.\n",
    "Разрешается использовать язык Python."
   ],
   "metadata": {
    "collapsed": false,
    "pycharm": {
     "name": "#%% md\n"
    }
   }
  },
  {
   "cell_type": "code",
   "execution_count": null,
   "outputs": [],
   "source": [
    "from sklearn.metrics import roc_auc_score\n",
    "\n",
    "x = [0,1,1,0,0,1,1,0,0,0]\n",
    "y = [0.35, 0.85, 0.75, 0.25, 0.05, 0.45, 0.95, 0.65, 0.15, 0.55]\n",
    "\n",
    "print(f'roc-auc: {roc_auc_score(x, y)}')"
   ],
   "metadata": {
    "collapsed": false,
    "pycharm": {
     "name": "#%%\n"
    }
   }
  },
  {
   "cell_type": "markdown",
   "source": [
    "В задаче регрессии имеется 5 объектов.\n",
    "Истинные значения целевой переменной равны [10, 2, -1, 3, 7].\n",
    "Ответы, предсказанные алгоритмом машинного обучения, равны соответственно [8, 1, 3, -1, 6].\n",
    "Вычислите значение метрики Mean Squared Error. Ответ представьте в виде десятичной дроби."
   ],
   "metadata": {
    "collapsed": false,
    "pycharm": {
     "name": "#%% md\n"
    }
   }
  },
  {
   "cell_type": "code",
   "execution_count": null,
   "outputs": [],
   "source": [
    "from sklearn.metrics import mean_squared_error\n",
    "\n",
    "x = [10, 2, -1, 3, 7]\n",
    "y = [8, 1, 3, -1, 6]\n",
    "\n",
    "print(f'MSE: {mean_squared_error(x, y)}')"
   ],
   "metadata": {
    "collapsed": false,
    "pycharm": {
     "name": "#%%\n"
    }
   }
  }
 ],
 "metadata": {
  "kernelspec": {
   "display_name": "Python 3",
   "language": "python",
   "name": "python3"
  },
  "language_info": {
   "codemirror_mode": {
    "name": "ipython",
    "version": 2
   },
   "file_extension": ".py",
   "mimetype": "text/x-python",
   "name": "python",
   "nbconvert_exporter": "python",
   "pygments_lexer": "ipython2",
   "version": "2.7.6"
  }
 },
 "nbformat": 4,
 "nbformat_minor": 0
}